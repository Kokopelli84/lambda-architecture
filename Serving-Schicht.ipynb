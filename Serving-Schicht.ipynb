{
 "cells": [
  {
   "cell_type": "markdown",
   "metadata": {},
   "source": [
    "# Umsetzung der Serving-Schicht (Lambda-Architektur) mit Redshift\n",
    "\n",
    "### Ziele:\n",
    "- Batch- und Echzeit-Sicht kombinieren"
   ]
  },
  {
   "cell_type": "markdown",
   "metadata": {},
   "source": [
    "### Authentifizierung"
   ]
  },
  {
   "cell_type": "code",
   "execution_count": null,
   "metadata": {
    "scrolled": true
   },
   "outputs": [],
   "source": [
    "import psycopg2\n",
    "\n",
    "config = { 'dbname': 'lambda', \n",
    "           'user':'nelson',\n",
    "           'pwd':'LambdaApp1',\n",
    "           'host':'serving-view.ctgixhn76zcs.eu-central-1.redshift.amazonaws.com',\n",
    "           'port':'5439'\n",
    "         }\n",
    "conn =  psycopg2.connect(dbname=config['dbname'], host=config['host'], \n",
    "                              port=config['port'], user=config['user'], \n",
    "                              password=config['pwd'])"
   ]
  },
  {
   "cell_type": "markdown",
   "metadata": {},
   "source": [
    "### Creating the serving layer\n",
    "- Daten aus der Batch-Sicht in die Serving-Sicht kopieren\n",
    "- Serving-Sicht mit Daten aus der Echtzeit-Sicht ergänzen"
   ]
  },
  {
   "cell_type": "code",
   "execution_count": null,
   "metadata": {},
   "outputs": [],
   "source": [
    "curs = conn.cursor()\n",
    "curs.execute(\"\"\" \n",
    "    DROP TABLE IF EXISTS serving_view; \n",
    "\n",
    "    SELECT * INTO serving_view FROM batch_view\n",
    "\n",
    "    UPDATE  serving_view\n",
    "    SET\n",
    "        count_id = count_id + speed_view.\"count(id)\",\n",
    "    FROM speed_view\n",
    "    WHERE    serving_view.location = speed_view.location ;\n",
    "\n",
    "    INSERT INTO serving_view\n",
    "    SELECT * FROM speed_view\n",
    "    WHERE speed_view.location \n",
    "    NOT IN (\n",
    "        SELECT \n",
    "            DISTINCT location \n",
    "        FROM \n",
    "            serving_view\n",
    "    )\n",
    "  \n",
    "\"\"\")\n",
    "curs.close()\n",
    "conn.commit()\n",
    "conn.close()"
   ]
  }
 ],
 "metadata": {
  "kernelspec": {
   "display_name": "Python 3",
   "language": "python",
   "name": "python3"
  },
  "language_info": {
   "codemirror_mode": {
    "name": "ipython",
    "version": 3
   },
   "file_extension": ".py",
   "mimetype": "text/x-python",
   "name": "python",
   "nbconvert_exporter": "python",
   "pygments_lexer": "ipython3",
   "version": "3.7.1"
  }
 },
 "nbformat": 4,
 "nbformat_minor": 2
}

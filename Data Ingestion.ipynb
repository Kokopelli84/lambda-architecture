{
 "cells": [
  {
   "cell_type": "markdown",
   "metadata": {},
   "source": [
    "# Echtzeit-Datenaufnahme mit Tweepy und Kafka\n",
    "\n",
    "### Ziele:\n",
    "- Daten der Twitter-API abfragen \n",
    "- Erzeugung eines KafkaProducer für die Austrahlung von Tweet-Streams"
   ]
  },
  {
   "cell_type": "markdown",
   "metadata": {},
   "source": [
    "### Required libraries"
   ]
  },
  {
   "cell_type": "code",
   "execution_count": 8,
   "metadata": {},
   "outputs": [],
   "source": [
    "import tweepy\n",
    "import time\n",
    "from kafka import KafkaConsumer, KafkaProducer"
   ]
  },
  {
   "cell_type": "markdown",
   "metadata": {},
   "source": [
    "<a id=\"1\"></a>\n",
    "### Twitter-API Konfiguration\n"
   ]
  },
  {
   "cell_type": "code",
   "execution_count": 9,
   "metadata": {},
   "outputs": [],
   "source": [
    "# twitter setup\n",
    "consumer_key = \"SouT2iNs6847bWSGLNWMvHnZK\"\n",
    "consumer_secret = \"5ywQrdlUV9DpFdh6cgjvWN6uKtNEi2h8xtxilUEXJPYSYN5Ly9\"\n",
    "access_token = \"917727277-jU7H5KRBRRy5l17NCCAyptJxleZDRrdlti3TlvRe\"\n",
    "access_token_secret = \"2zGPcdXvgZkLlQEI4maTt4fJblAQDBwN3cVBJ6OKQ8PqD\"\n",
    "# Creating the authentication object\n",
    "auth = tweepy.OAuthHandler(consumer_key, consumer_secret)\n",
    "# Setting your access token and secret\n",
    "auth.set_access_token(access_token, access_token_secret)\n",
    "# Creating the API object by passing in auth information\n",
    "api = tweepy.API(auth) \n"
   ]
  },
  {
   "cell_type": "markdown",
   "metadata": {},
   "source": [
    "### Normalisierung des Timestamps von GMT auf CEST"
   ]
  },
  {
   "cell_type": "code",
   "execution_count": 10,
   "metadata": {},
   "outputs": [],
   "source": [
    "from datetime import datetime, timedelta\n",
    "\n",
    "def normalize_timestamp(time):\n",
    "    mytime = datetime.strptime(time, \"%Y-%m-%d %H:%M:%S\")\n",
    "    mytime += timedelta(hours=2)   # the tweets are timestamped in GMT timezone, while I am in +1 timezone\n",
    "    return (mytime.strftime(\"%Y-%m-%d %H:%M:%S\")) "
   ]
  },
  {
   "cell_type": "markdown",
   "metadata": {},
   "source": [
    "<a id=\"2\"></a>\n",
    "### KafkaProducer Konfiguration\n"
   ]
  },
  {
   "cell_type": "code",
   "execution_count": 11,
   "metadata": {
    "scrolled": true
   },
   "outputs": [],
   "source": [
    "producer = KafkaProducer(bootstrap_servers='localhost:9092')\n",
    "topic_name = 'tweets-lambda1'"
   ]
  },
  {
   "cell_type": "markdown",
   "metadata": {},
   "source": [
    "<a id=\"3\"></a>\n",
    "### Producing and sending records to the Kafka Broker\n",
    "- Daten aus Twitter abfragen und mit Kafka ausstrahlen\n"
   ]
  },
  {
   "cell_type": "code",
   "execution_count": 12,
   "metadata": {},
   "outputs": [],
   "source": [
    "def query_twitter_data():\n",
    "    res = api.search(\"Big Data OR big data OR iPhone\")\n",
    "    for i in res:\n",
    "        record = ''\n",
    "        record += str(i.user.id_str)\n",
    "        record += ';'\n",
    "        record += str(normalize_timestamp(str(i.created_at)))\n",
    "        record += ';'\n",
    "        record += str(i.user.location)\n",
    "        record += ';'\n",
    "        producer.send(topic_name, str.encode(record))"
   ]
  },
  {
   "cell_type": "markdown",
   "metadata": {},
   "source": [
    "### Funktion für die Abfrage von Tweets "
   ]
  },
  {
   "cell_type": "code",
   "execution_count": 13,
   "metadata": {},
   "outputs": [],
   "source": [
    "def stream_data(interval):\n",
    "    while True:\n",
    "        query_twitter_data()\n",
    "        #interval should be an integer, the number of seconds to wait\n",
    "        time.sleep(interval)\n"
   ]
  },
  {
   "cell_type": "markdown",
   "metadata": {},
   "source": [
    "### Neue Daten jede 6 Sekunden von Twitter abfragen und ausstrahlen"
   ]
  },
  {
   "cell_type": "code",
   "execution_count": null,
   "metadata": {},
   "outputs": [],
   "source": [
    "stream_data(60 * 0.1)"
   ]
  },
  {
   "cell_type": "markdown",
   "metadata": {},
   "source": [
    "### KafkaProducer testen"
   ]
  },
  {
   "cell_type": "code",
   "execution_count": 4,
   "metadata": {},
   "outputs": [],
   "source": [
    "from kafka import KafkaConsumer\n",
    "consumer = KafkaConsumer(\n",
    "                        bootstrap_servers='localhost:9092',\n",
    "                        auto_offset_reset='latest',  # Reset partition offsets upon OffsetOutOfRangeError\n",
    "                        group_id='test1',   # must have a unique consumer group id \n",
    "                        consumer_timeout_ms=1000)  \n",
    "                                # How long to listen for messages - we do it for 10 seconds \n",
    "                                # because we poll the kafka broker only each couple of hours\n",
    "\n",
    "consumer.subscribe('tweets-lambda1')"
   ]
  },
  {
   "cell_type": "code",
   "execution_count": 35,
   "metadata": {},
   "outputs": [
    {
     "name": "stdout",
     "output_type": "stream",
     "text": [
      "1102340628246077440;2019-09-27 08:27:33;;\n",
      "1241258612;2019-09-27 08:27:07;London;\n",
      "32183561;2019-09-27 08:27:07;Australia 🇦🇺;\n",
      "2764956929;2019-09-27 08:27:04;South Africa;\n",
      "166388185;2019-09-27 08:26:36;Australia;\n",
      "4611042555;2019-09-27 08:26:34;;\n",
      "56682701;2019-09-27 08:26:27;Naperville;\n",
      "1251358218;2019-09-27 08:26:25;Nairobi,Kenya;\n",
      "434807646;2019-09-27 08:26:20;Pakistan;\n",
      "286281064;2019-09-27 08:26:09;Canada,;\n",
      "6484062;2019-09-27 08:25:53;UC3M, Madrid;\n",
      "4820804277;2019-09-27 08:25:43;;\n",
      "2959060847;2019-09-27 08:25:39;Comunidad de Madrid, España;\n",
      "833068479410417664;2019-09-27 08:25:38;Australia;\n",
      "1111987907445882880;2019-09-27 08:24:57;Ile-de-France, France;\n",
      "1496642287;2019-09-27 08:29:14;Earth;\n",
      "215769483;2019-09-27 08:28:53;Nairobi,kenya.;\n",
      "981090058831826945;2019-09-27 08:28:53;;\n",
      "3869640735;2019-09-27 08:28:48;;\n",
      "1057557859674800128;2019-09-27 08:28:32;Noida, India;\n",
      "952128394900180992;2019-09-27 08:28:29;Developing Countries;\n",
      "768435897071181824;2019-09-27 08:28:10;France;\n",
      "800184230785363968;2019-09-27 08:28:05;Kampala, Uganda;\n",
      "996055412372746240;2019-09-27 08:27:59;East Timor;\n",
      "370837345;2019-09-27 08:27:51;Nairobi,Kenya;\n",
      "1005024984526401536;2019-09-27 08:27:49;Ibadan, Nigeria;\n",
      "4834435738;2019-09-27 08:27:45;;\n",
      "1102340628246077440;2019-09-27 08:27:33;;\n",
      "1241258612;2019-09-27 08:27:07;London;\n",
      "32183561;2019-09-27 08:27:07;Australia 🇦🇺;\n",
      "1082958552837300224;2019-09-27 08:31:21;;\n",
      "901925852597932036;2019-09-27 08:31:07;Madrid, España;\n",
      "218737767;2019-09-27 08:30:55;Nairobi, Kenya;\n",
      "1094157906247856130;2019-09-27 08:30:53;;\n",
      "35191861;2019-09-27 08:30:40;Bangkok;\n",
      "930871517860319232;2019-09-27 08:30:33;;\n",
      "226310002;2019-09-27 08:30:31;Worldwide;\n",
      "985887518590578693;2019-09-27 08:30:26;Duitsland;\n",
      "874606098;2019-09-27 08:30:04;By the Sea;\n",
      "277255226;2019-09-27 08:30:01;;\n",
      "1130696891111362561;2019-09-27 08:29:56;San Francisco, CA;\n",
      "464060361;2019-09-27 08:29:50;Lagos, Nigeria;\n",
      "294448082;2019-09-27 08:29:39;Earth;\n",
      "1496642287;2019-09-27 08:29:14;Earth;\n",
      "215769483;2019-09-27 08:28:53;Nairobi,kenya.;\n"
     ]
    }
   ],
   "source": [
    "for message in consumer:\n",
    "    print(message.value.decode())"
   ]
  }
 ],
 "metadata": {
  "kernelspec": {
   "display_name": "Python 3",
   "language": "python",
   "name": "python3"
  },
  "language_info": {
   "codemirror_mode": {
    "name": "ipython",
    "version": 3
   },
   "file_extension": ".py",
   "mimetype": "text/x-python",
   "name": "python",
   "nbconvert_exporter": "python",
   "pygments_lexer": "ipython3",
   "version": "3.7.1"
  }
 },
 "nbformat": 4,
 "nbformat_minor": 2
}
